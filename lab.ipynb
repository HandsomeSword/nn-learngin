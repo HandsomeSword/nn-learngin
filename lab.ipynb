{
 "cells": [
  {
   "cell_type": "code",
   "execution_count": 1,
   "metadata": {},
   "outputs": [],
   "source": [
    "from Module import *\n",
    "from Optimizer import *\n",
    "from DataTools import *"
   ]
  },
  {
   "cell_type": "code",
   "execution_count": 7,
   "metadata": {},
   "outputs": [],
   "source": [
    "train_dataset = DataSet(['train-images-idx3-ubyte', 'train-labels-idx1-ubyte'], data_type='mnist')\n",
    "train_loader = DataLoader(train_dataset, batch_size=64, shuffle=True)\n",
    "\n",
    "\n",
    "test_dataset = DataSet(['t10k-images-idx3-ubyte', 't10k-labels-idx1-ubyte'], data_type='mnist')\n",
    "test_loader = DataLoader(test_dataset, batch_size=4, shuffle=True)"
   ]
  },
  {
   "cell_type": "code",
   "execution_count": 3,
   "metadata": {},
   "outputs": [],
   "source": [
    "def ResidualMLP(input_dim, output_dim, num_blocks):\n",
    "    net = Sequential(*[Residual(Linear(input_dim, input_dim), ReLU(), Linear(input_dim, input_dim)) for _ in range(num_blocks)],\n",
    "                     Linear(input_dim, output_dim), Softmax())\n",
    "    return net"
   ]
  },
  {
   "cell_type": "code",
   "execution_count": 4,
   "metadata": {},
   "outputs": [
    {
     "name": "stdout",
     "output_type": "stream",
     "text": [
      "\n",
      "\n",
      "\n",
      "\n",
      "\n",
      "\n",
      "\n"
     ]
    }
   ],
   "source": [
    "net = ResidualMLP(784, 10, 3)\n",
    "optimizer = SGD(net.parameters(), lr=0.01, batch_size=64)\n",
    "scheduler = ConstantScheduler(optimizer=optimizer, lr=0.01)\n",
    "loss_fn = CrossEntrophyLoss()"
   ]
  },
  {
   "cell_type": "code",
   "execution_count": 5,
   "metadata": {},
   "outputs": [
    {
     "name": "stdout",
     "output_type": "stream",
     "text": [
      "epcosh: 0\n"
     ]
    },
    {
     "name": "stderr",
     "output_type": "stream",
     "text": [
      "/home/robot/Workspace/nn-learngin/core.py:285: RuntimeWarning: overflow encountered in exp\n",
      "  return np.exp(a)\n",
      "/home/robot/Workspace/nn-learngin/core.py:291: RuntimeWarning: invalid value encountered in divide\n",
      "  return a / b\n",
      "/home/robot/Workspace/nn-learngin/core.py:313: RuntimeWarning: divide by zero encountered in log\n",
      "  return np.log(a)\n",
      "/home/robot/Workspace/nn-learngin/core.py:232: RuntimeWarning: invalid value encountered in multiply\n",
      "  return a * b\n"
     ]
    },
    {
     "name": "stdout",
     "output_type": "stream",
     "text": [
      "epcosh: 1\n"
     ]
    }
   ],
   "source": [
    "num_epochs = 2\n",
    "for epoch in range(num_epochs):\n",
    "    print(f\"epcosh: {epoch}\")\n",
    "    for data, labels in train_loader:\n",
    "        data = data.reshape(data.shape[0], -1)\n",
    "        data = Tensor.make_const(data)\n",
    "        optimizer.reset_grad()\n",
    "        output = net(data)\n",
    "        one_hot_vector = np.zeros((len(labels), 10))\n",
    "        one_hot_vector[np.arange(len(labels)), labels] = 1\n",
    "        labels = one_hot_vector\n",
    "        labels = Tensor.make_const(labels)\n",
    "        loss = loss_fn(output, labels)\n",
    "        loss.backward()\n",
    "        optimizer.step()\n",
    "        scheduler.step()"
   ]
  },
  {
   "cell_type": "code",
   "execution_count": 30,
   "metadata": {},
   "outputs": [
    {
     "name": "stdout",
     "output_type": "stream",
     "text": [
      "[[nan nan nan nan nan nan nan nan nan nan]\n",
      " [nan nan nan nan nan nan nan nan nan nan]\n",
      " [nan nan nan nan nan nan nan nan nan nan]\n",
      " [nan nan nan nan nan nan nan nan nan nan]]\n",
      "pred : [0 0 0 0] \n",
      "\n",
      "labels :[6 3 5 4]\n"
     ]
    }
   ],
   "source": [
    "for data, labels in test_loader:\n",
    "    data = data.reshape(data.shape[0], -1)\n",
    "    data = Tensor.make_const(data)\n",
    "    output = net(data)\n",
    "    print(output.data)\n",
    "    print(f\"pred : {np.argmax(output.data, axis=1)} \\n\")\n",
    "    print(f\"labels :{labels}\")\n",
    "    break"
   ]
  },
  {
   "cell_type": "code",
   "execution_count": null,
   "metadata": {},
   "outputs": [],
   "source": []
  }
 ],
 "metadata": {
  "kernelspec": {
   "display_name": "nn-learning",
   "language": "python",
   "name": "python3"
  },
  "language_info": {
   "codemirror_mode": {
    "name": "ipython",
    "version": 3
   },
   "file_extension": ".py",
   "mimetype": "text/x-python",
   "name": "python",
   "nbconvert_exporter": "python",
   "pygments_lexer": "ipython3",
   "version": "3.9.19"
  }
 },
 "nbformat": 4,
 "nbformat_minor": 2
}
