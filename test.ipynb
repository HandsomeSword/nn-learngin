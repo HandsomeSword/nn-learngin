{
 "cells": [
  {
   "cell_type": "code",
   "execution_count": 1,
   "metadata": {},
   "outputs": [],
   "source": [
    "# 测试反向求导功能\n",
    "from core import *\n",
    "import numpy as np"
   ]
  },
  {
   "cell_type": "code",
   "execution_count": 2,
   "metadata": {},
   "outputs": [],
   "source": [
    "a = Tensor.from_numpy(np.array([[1, 2]], dtype=np.float32),dtype=\"float32\")\n",
    "b = Tensor.from_numpy(np.array([[3, 4]], dtype=np.float32),dtype=\"float32\")\n",
    "\n",
    "c = a + b\n",
    "\n",
    "d = Tensor.from_numpy(numpy_array=np.array([[2],[3]], dtype=np.float32),dtype=\"float32\")\n",
    "\n",
    "e = c @ d\n",
    "\n",
    "f = Tensor.make_const(np.array([1, 1], dtype=np.float32))"
   ]
  },
  {
   "cell_type": "code",
   "execution_count": 3,
   "metadata": {},
   "outputs": [],
   "source": [
    "y = f + e"
   ]
  },
  {
   "cell_type": "code",
   "execution_count": 4,
   "metadata": {},
   "outputs": [],
   "source": [
    "y.backward()"
   ]
  },
  {
   "cell_type": "code",
   "execution_count": 5,
   "metadata": {},
   "outputs": [
    {
     "data": {
      "text/plain": [
       "array([[1., 1.]])"
      ]
     },
     "execution_count": 5,
     "metadata": {},
     "output_type": "execute_result"
    }
   ],
   "source": [
    "e.grad.data"
   ]
  },
  {
   "cell_type": "code",
   "execution_count": 32,
   "metadata": {},
   "outputs": [],
   "source": [
    "\n",
    "a = Tensor.from_numpy(np.array([[1], [2],[3], [4], [5], [6], [7], [8], [9], [10]], dtype=np.float32),dtype=\"float32\")\n",
    "b = np.ones((10), dtype=np.float32)"
   ]
  },
  {
   "cell_type": "code",
   "execution_count": 33,
   "metadata": {},
   "outputs": [],
   "source": [
    "c = a - b"
   ]
  },
  {
   "cell_type": "code",
   "execution_count": 35,
   "metadata": {},
   "outputs": [
    {
     "data": {
      "text/plain": [
       "(10, 10)"
      ]
     },
     "execution_count": 35,
     "metadata": {},
     "output_type": "execute_result"
    }
   ],
   "source": [
    "c.shape"
   ]
  },
  {
   "cell_type": "code",
   "execution_count": null,
   "metadata": {},
   "outputs": [],
   "source": []
  },
  {
   "cell_type": "code",
   "execution_count": 6,
   "metadata": {},
   "outputs": [],
   "source": [
    "from DataTools import *\n",
    "\n",
    "iris_dataset = DataSet(data_path='iris.csv', data_type='csv')"
   ]
  },
  {
   "cell_type": "code",
   "execution_count": 7,
   "metadata": {},
   "outputs": [],
   "source": [
    "iris_loader = DataLoader(iris_dataset, batch_size=8, shuffle=True)"
   ]
  },
  {
   "cell_type": "code",
   "execution_count": 8,
   "metadata": {},
   "outputs": [
    {
     "name": "stdout",
     "output_type": "stream",
     "text": [
      "data: \n",
      " [[6.10e+01 5.00e+00 2.00e+00 3.50e+00 1.00e+00]\n",
      " [7.80e+01 6.70e+00 3.00e+00 5.00e+00 1.70e+00]\n",
      " [1.32e+02 7.90e+00 3.80e+00 6.40e+00 2.00e+00]\n",
      " [9.30e+01 5.80e+00 2.60e+00 4.00e+00 1.20e+00]\n",
      " [1.00e+01 4.90e+00 3.10e+00 1.50e+00 1.00e-01]\n",
      " [8.20e+01 5.50e+00 2.40e+00 3.70e+00 1.00e+00]\n",
      " [1.90e+01 5.70e+00 3.80e+00 1.70e+00 3.00e-01]\n",
      " [4.30e+01 4.40e+00 3.20e+00 1.30e+00 2.00e-01]], \n",
      " labels: \n",
      " ['versicolor' 'versicolor' 'virginica' 'versicolor' 'setosa' 'versicolor'\n",
      " 'setosa' 'setosa']\n"
     ]
    }
   ],
   "source": [
    "for data, labels in iris_loader:\n",
    "    print(f\"data: \\n {data}, \\n labels: \\n {labels}\")\n",
    "    break"
   ]
  },
  {
   "cell_type": "code",
   "execution_count": 9,
   "metadata": {},
   "outputs": [],
   "source": [
    "mnist_dataset = DataSet(['train-images-idx3-ubyte', 'train-labels-idx1-ubyte'], data_type='mnist')"
   ]
  },
  {
   "cell_type": "code",
   "execution_count": 10,
   "metadata": {},
   "outputs": [],
   "source": [
    "mnist_dataloader = DataLoader(mnist_dataset, batch_size=8, shuffle=True)"
   ]
  },
  {
   "cell_type": "code",
   "execution_count": 11,
   "metadata": {},
   "outputs": [
    {
     "data": {
      "image/png": "[encoded data removed]",
      "text/plain": [
       "<Figure size 1500x600 with 8 Axes>"
      ]
     },
     "metadata": {},
     "output_type": "display_data"
    }
   ],
   "source": [
    "import matplotlib.pyplot as plt\n",
    "\n",
    "\n",
    "for data, labels in mnist_dataloader:\n",
    "    fig, axes = plt.subplots(nrows=1, ncols=8, figsize=(15, 6))\n",
    "    for i, ax in enumerate(axes.flat):\n",
    "        img = data[i]\n",
    "        if img.shape[0] == 1:\n",
    "            img = img.squeeze(0)  # 去掉单通道维度\n",
    "\n",
    "        ax.imshow(img, cmap='gray')\n",
    "        ax.set_title(f\"Label: {labels[i]}\")\n",
    "        ax.axis('off')  # 隐藏坐标轴\n",
    "\n",
    "    plt.tight_layout()\n",
    "    plt.show()\n",
    "    break"
   ]
  },
  {
   "cell_type": "code",
   "execution_count": 12,
   "metadata": {},
   "outputs": [
    {
     "name": "stdout",
     "output_type": "stream",
     "text": [
      "{'x': 10, 'y': 20}\n"
     ]
    }
   ],
   "source": [
    "class MyClass:\n",
    "    def __init__(self, x, y):\n",
    "        self.x = x\n",
    "        self.y = y\n",
    "\n",
    "    def display_attributes(self):\n",
    "        print(self.__dict__)\n",
    "\n",
    "# 创建对象\n",
    "obj = MyClass(10, 20)\n",
    "\n",
    "# 查看对象的属性\n",
    "obj.display_attributes()"
   ]
  },
  {
   "cell_type": "code",
   "execution_count": 13,
   "metadata": {},
   "outputs": [],
   "source": [
    "class A:\n",
    "    def __init__(self, x):\n",
    "        self.x = x\n",
    "\n",
    "    def __truediv__(self, other):\n",
    "        return self.x / other.x\n",
    "    \n",
    "    def __add__(self, other):\n",
    "        if isinstance(other, A):\n",
    "            return self.x + other.x\n",
    "        else:\n",
    "            return self.x + other\n",
    "    \n",
    "    def __sub__(self, other):\n",
    "        return self + (-other)\n",
    "    \n"
   ]
  },
  {
   "cell_type": "code",
   "execution_count": null,
   "metadata": {},
   "outputs": [],
   "source": []
  }
 ],
 "metadata": {
  "kernelspec": {
   "display_name": "nn-learning",
   "language": "python",
   "name": "python3"
  },
  "language_info": {
   "codemirror_mode": {
    "name": "ipython",
    "version": 3
   },
   "file_extension": ".py",
   "mimetype": "text/x-python",
   "name": "python",
   "nbconvert_exporter": "python",
   "pygments_lexer": "ipython3",
   "version": "3.9.19"
  }
 },
 "nbformat": 4,
 "nbformat_minor": 2
}
