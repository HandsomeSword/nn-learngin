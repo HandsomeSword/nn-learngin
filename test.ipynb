{
 "cells": [
  {
   "cell_type": "code",
   "execution_count": 1,
   "metadata": {},
   "outputs": [],
   "source": [
    "# 测试反向求导功能\n",
    "from core import *\n",
    "import numpy as np"
   ]
  },
  {
   "cell_type": "code",
   "execution_count": 2,
   "metadata": {},
   "outputs": [],
   "source": [
    "a = Tensor.from_numpy(np.array([1, 2], dtype=np.float32),dtype=\"float32\")\n",
    "b = Tensor.from_numpy(np.array([3, 4], dtype=np.float32),dtype=\"float32\")\n",
    "\n",
    "c = a + b\n",
    "\n",
    "d = Tensor.from_numpy(numpy_array=np.array([2, 3], dtype=np.float32),dtype=\"float32\")\n",
    "\n",
    "e = c @ d\n",
    "\n",
    "f = Tensor.make_const(np.array([1, 1], dtype=np.float32))"
   ]
  },
  {
   "cell_type": "code",
   "execution_count": 3,
   "metadata": {},
   "outputs": [],
   "source": [
    "y = f + e"
   ]
  },
  {
   "cell_type": "code",
   "execution_count": 4,
   "metadata": {},
   "outputs": [],
   "source": [
    "y.backward()"
   ]
  },
  {
   "cell_type": "code",
   "execution_count": 5,
   "metadata": {},
   "outputs": [
    {
     "data": {
      "text/plain": [
       "array([2., 3.])"
      ]
     },
     "execution_count": 5,
     "metadata": {},
     "output_type": "execute_result"
    }
   ],
   "source": [
    "a.grad.data"
   ]
  },
  {
   "cell_type": "code",
   "execution_count": 6,
   "metadata": {},
   "outputs": [],
   "source": [
    "from DataTools import *\n",
    "\n",
    "iris_dataset = DataSet(data_path='iris.csv', data_type='csv')"
   ]
  },
  {
   "cell_type": "code",
   "execution_count": 7,
   "metadata": {},
   "outputs": [],
   "source": [
    "iris_loader = DataLoader(iris_dataset, batch_size=8, shuffle=True)"
   ]
  },
  {
   "cell_type": "code",
   "execution_count": 8,
   "metadata": {},
   "outputs": [
    {
     "name": "stdout",
     "output_type": "stream",
     "text": [
      "data: \n",
      " [[114.    5.7   2.5   5.    2. ]\n",
      " [  7.    4.6   3.4   1.4   0.3]\n",
      " [118.    7.7   3.8   6.7   2.2]\n",
      " [ 55.    6.5   2.8   4.6   1.5]\n",
      " [  6.    5.4   3.9   1.7   0.4]\n",
      " [145.    6.7   3.3   5.7   2.5]\n",
      " [140.    6.9   3.1   5.4   2.1]\n",
      " [ 68.    5.8   2.7   4.1   1. ]], \n",
      " labels: \n",
      " ['virginica' 'setosa' 'virginica' 'versicolor' 'setosa' 'virginica'\n",
      " 'virginica' 'versicolor']\n"
     ]
    }
   ],
   "source": [
    "for data, labels in iris_loader:\n",
    "    print(f\"data: \\n {data}, \\n labels: \\n {labels}\")\n",
    "    break"
   ]
  },
  {
   "cell_type": "code",
   "execution_count": 9,
   "metadata": {},
   "outputs": [],
   "source": [
    "mnist_dataset = DataSet(['train-images-idx3-ubyte', 'train-labels-idx1-ubyte'], data_type='mnist')"
   ]
  },
  {
   "cell_type": "code",
   "execution_count": 10,
   "metadata": {},
   "outputs": [],
   "source": [
    "mnist_dataloader = DataLoader(mnist_dataset, batch_size=8, shuffle=True)"
   ]
  },
  {
   "cell_type": "code",
   "execution_count": 11,
   "metadata": {},
   "outputs": [
    {
     "data": {
      "image/png": "[encoded data removed]",
      "text/plain": [
       "<Figure size 1500x600 with 8 Axes>"
      ]
     },
     "metadata": {},
     "output_type": "display_data"
    }
   ],
   "source": [
    "import matplotlib.pyplot as plt\n",
    "\n",
    "\n",
    "for data, labels in mnist_dataloader:\n",
    "    fig, axes = plt.subplots(nrows=1, ncols=8, figsize=(15, 6))\n",
    "    for i, ax in enumerate(axes.flat):\n",
    "        img = data[i]\n",
    "        if img.shape[0] == 1:\n",
    "            img = img.squeeze(0)  # 去掉单通道维度\n",
    "\n",
    "        ax.imshow(img, cmap='gray')\n",
    "        ax.set_title(f\"Label: {labels[i]}\")\n",
    "        ax.axis('off')  # 隐藏坐标轴\n",
    "\n",
    "    plt.tight_layout()\n",
    "    plt.show()\n",
    "    break"
   ]
  },
  {
   "cell_type": "code",
   "execution_count": 12,
   "metadata": {},
   "outputs": [
    {
     "name": "stdout",
     "output_type": "stream",
     "text": [
      "{'x': 10, 'y': 20}\n"
     ]
    }
   ],
   "source": [
    "class MyClass:\n",
    "    def __init__(self, x, y):\n",
    "        self.x = x\n",
    "        self.y = y\n",
    "\n",
    "    def display_attributes(self):\n",
    "        print(self.__dict__)\n",
    "\n",
    "# 创建对象\n",
    "obj = MyClass(10, 20)\n",
    "\n",
    "# 查看对象的属性\n",
    "obj.display_attributes()"
   ]
  },
  {
   "cell_type": "code",
   "execution_count": 13,
   "metadata": {},
   "outputs": [],
   "source": [
    "class A:\n",
    "    def __init__(self, x):\n",
    "        self.x = x\n",
    "\n",
    "    def __truediv__(self, other):\n",
    "        return self.x / other.x\n",
    "    \n",
    "    def __add__(self, other):\n",
    "        if isinstance(other, A):\n",
    "            return self.x + other.x\n",
    "        else:\n",
    "            return self.x + other\n",
    "    \n",
    "    def __sub__(self, other):\n",
    "        return self + (-other)\n",
    "    \n"
   ]
  },
  {
   "cell_type": "code",
   "execution_count": 14,
   "metadata": {},
   "outputs": [],
   "source": [
    "from Module import *\n",
    "from Optimizer import *"
   ]
  },
  {
   "cell_type": "code",
   "execution_count": 15,
   "metadata": {},
   "outputs": [],
   "source": [
    "train_dataset = DataSet(['train-images-idx3-ubyte', 'train-labels-idx1-ubyte'], data_type='mnist')\n",
    "train_loader = DataLoader(train_dataset, batch_size=64, shuffle=True)\n",
    "\n",
    "\n",
    "test_dataset = DataSet(['t10k-images-idx3-ubyte', 't10k-labels-idx1-ubyte'], data_type='mnist')\n",
    "test_loader = DataLoader(test_dataset, batch_size=64, shuffle=False)"
   ]
  },
  {
   "cell_type": "code",
   "execution_count": 16,
   "metadata": {},
   "outputs": [],
   "source": [
    "def ResidualMLP(input_dim, hidden_dim, output_dim, num_blocks):\n",
    "    net = Sequential(Linear(input_dim, hidden_dim), *[Residual(Linear(hidden_dim, hidden_dim)) for _ in range(num_blocks)], Linear(hidden_dim, output_dim), ReLU())\n",
    "    return net"
   ]
  },
  {
   "cell_type": "code",
   "execution_count": 17,
   "metadata": {},
   "outputs": [],
   "source": [
    "net = ResidualMLP(784, 128, 1, 3)\n",
    "optimizer = SGD(net.parameters(), lr=0.01)\n",
    "scheduler = ConstantScheduler(optimizer=optimizer, lr=0.01)\n",
    "loss_fn = MSELoss()"
   ]
  },
  {
   "cell_type": "code",
   "execution_count": 22,
   "metadata": {},
   "outputs": [
    {
     "name": "stdout",
     "output_type": "stream",
     "text": [
      "data shape: <class 'core.Tensor'>\n"
     ]
    }
   ],
   "source": [
    "num_epochs = 10\n",
    "for epoch in range(num_epochs):\n",
    "    for data, labels in train_loader:\n",
    "        data = data.reshape(data.shape[0], -1)\n",
    "        data = Tensor.make_const(data)\n",
    "        print(f\"data shape: {type(data)}\")\n",
    "        optimizer.reset_grad()\n",
    "        output = net(data)\n",
    "        loss = loss_fn(output, labels)\n",
    "        loss.backward()\n",
    "        optimizer.step()\n",
    "        scheduler.step()"
   ]
  },
  {
   "cell_type": "code",
   "execution_count": 27,
   "metadata": {},
   "outputs": [],
   "source": [
    "data_test = (1,)\n",
    "\n",
    "data_compute = [i + 1 for i in data_test]"
   ]
  },
  {
   "cell_type": "code",
   "execution_count": 28,
   "metadata": {},
   "outputs": [
    {
     "data": {
      "text/plain": [
       "[2]"
      ]
     },
     "execution_count": 28,
     "metadata": {},
     "output_type": "execute_result"
    }
   ],
   "source": [
    "data_compute"
   ]
  },
  {
   "cell_type": "code",
   "execution_count": null,
   "metadata": {},
   "outputs": [],
   "source": []
  }
 ],
 "metadata": {
  "kernelspec": {
   "display_name": "nn-learning",
   "language": "python",
   "name": "python3"
  },
  "language_info": {
   "codemirror_mode": {
    "name": "ipython",
    "version": 3
   },
   "file_extension": ".py",
   "mimetype": "text/x-python",
   "name": "python",
   "nbconvert_exporter": "python",
   "pygments_lexer": "ipython3",
   "version": "3.9.19"
  }
 },
 "nbformat": 4,
 "nbformat_minor": 2
}
